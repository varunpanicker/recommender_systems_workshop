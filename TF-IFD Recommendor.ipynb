{
 "cells": [
  {
   "cell_type": "code",
   "execution_count": 269,
   "metadata": {
    "collapsed": true
   },
   "outputs": [],
   "source": [
    "###Install requirements\n",
    "import pandas as pd\n",
    "import numpy as np\n",
    "from sklearn.feature_extraction.text import TfidfVectorizer\n",
    "from sklearn.metrics.pairwise import linear_kernel\n",
    "from gensim.scripts.glove2word2vec import glove2word2vec\n",
    "import os"
   ]
  },
  {
   "cell_type": "code",
   "execution_count": 172,
   "metadata": {},
   "outputs": [],
   "source": [
    "## Load the data\n",
    "data = pd.read_csv('sample-data.csv')"
   ]
  },
  {
   "cell_type": "code",
   "execution_count": 173,
   "metadata": {},
   "outputs": [],
   "source": [
    "import string\n",
    "import re\n",
    "\n",
    "def clean(Text):\n",
    "    Text = re.sub('-',' ',Text)\n",
    "    Text = re.sub('>','> ',Text)\n",
    "    Text = re.sub('<',' <',Text)\n",
    "    Text = \"\".join([ch for ch in Text if ch not in string.punctuation ])\n",
    "    cleanr = re.compile('<.*>')\n",
    "    cleantext = re.sub(cleanr, ' ', Text)\n",
    "    cleantext = re.sub(' +',' ',cleantext)\n",
    "    return cleantext\n"
   ]
  },
  {
   "cell_type": "code",
   "execution_count": 175,
   "metadata": {},
   "outputs": [],
   "source": [
    "## very little cleaning\n",
    "data_clean = data.copy()\n",
    "data_clean['description'] = data_clean['description'].str.lower()\n",
    "data_clean['description'] = data_clean['description'].apply(clean)"
   ]
  },
  {
   "cell_type": "markdown",
   "metadata": {},
   "source": [
    "# APPROACH 1:\n",
    "## We first try the statistical NLP approach by calculating the tf-idf based features for the dataset\n",
    "## and then use the cosine similarity function to calculate the list of most similar products to a given input"
   ]
  },
  {
   "cell_type": "code",
   "execution_count": 177,
   "metadata": {
    "collapsed": true
   },
   "outputs": [],
   "source": [
    "## Create a TF-IDF matrix of unigrams, bigrams, and trigrams for each product. The 'stop_words' param\n",
    "## tells the TF-IDF module to ignore common english words like 'the', etc.\n",
    "\n",
    "tf = TfidfVectorizer(analyzer='word', ngram_range=(1, 3), min_df=0, stop_words='english')\n",
    "tfidf_matrix = tf.fit_transform(data_clean['description'])"
   ]
  },
  {
   "cell_type": "code",
   "execution_count": 178,
   "metadata": {},
   "outputs": [],
   "source": [
    "cosine_similarities = linear_kernel(tfidf_matrix, tfidf_matrix)"
   ]
  },
  {
   "cell_type": "code",
   "execution_count": 179,
   "metadata": {},
   "outputs": [
    {
     "data": {
      "text/plain": [
       "(500, 500)"
      ]
     },
     "execution_count": 179,
     "metadata": {},
     "output_type": "execute_result"
    }
   ],
   "source": [
    "cosine_similarities.shape"
   ]
  },
  {
   "cell_type": "code",
   "execution_count": 211,
   "metadata": {},
   "outputs": [],
   "source": [
    "def get_similarity_m(product_id,cosine_similarities,data_clean,number_similar_products =10,show_simlar = 2):\n",
    "    similar_products = cosine_similarities[product_id-1].argsort()[:-number_similar_products:-1]\n",
    "    similar_products = similar_products[1:,]\n",
    "    print('Description of Product:')\n",
    "    print(data[\"description\"][product_id-1])\n",
    "    print('\\n')\n",
    "    print(\"Similar product to {0} : \".format(product_id))\n",
    "    for x in similar_products:\n",
    "        print(x+1)\n",
    "    print('\\n')\n",
    "    print('Description of Most Similar Product:')\n",
    "    print(data[\"description\"][similar_products[0]])\n",
    "    print('\\n')\n",
    "    print(data[\"description\"][similar_products[1]])"
   ]
  },
  {
   "cell_type": "code",
   "execution_count": 316,
   "metadata": {},
   "outputs": [
    {
     "name": "stdout",
     "output_type": "stream",
     "text": [
      "Description of Product:\n",
      "Active sport boxer briefs - Skinning up Glory requires enough movement without your boxers deciding to poach their own route. The form-fitting Active Sport Boxer Briefs are made from breathable 93% polyester (71% recycled) fabric that's fast-wicking, dries quickly and has 7% spandex for stretch; the seamless waistband and soft leg edges won't roll or bind. The gusseted, flat-sewn 6\" inseam (size M) is offset to prevent inner-thigh chafe. Fly-free with a smooth front panel. Recyclable through the Common Threads Recycling Program.<br><br><b>Details:</b><ul> <li>\"Stretch mesh provides support, open-weave mesh for airflow, wicks efficiently, dries fast\"</li> <li>Seamless construction</li> <li>\"Flat-sewn, gusseted inseam is set forward to prevent inner-thigh chafe\"</li> <li>Fly-free support</li> <li>\"Inseam (size M) is 6\"\"\"</li></ul><br><br><b>Fabric: </b>\"4.6-oz 93% polyester (71% recycled)/7% spandex, with moisture-wicking performance. Recyclable through the Common Threads Recycling Program\"<br><br><b>Weight: </b>(60 g 2.1 oz)<br><br>Made in Israel.\n",
      "\n",
      "\n",
      "Similar product to 2 : \n",
      "3\n",
      "299\n",
      "300\n",
      "19\n",
      "494\n",
      "318\n",
      "301\n",
      "155\n",
      "\n",
      "\n",
      "Description of Most Similar Product:\n",
      "Active sport briefs - These superbreathable no-fly briefs are the minimalist's choice for high-octane endeavors. Made from a blend of fast-wicking, quick-drying 93% polyester (71% recycled) and 7% spandex that has both stretch-mesh (for support) and open mesh (for cooling airflow). Soft edging at the leg openings and a seamless waist won't roll or create friction against layers. With a smooth front panel for opacity. Recyclable through the Common Threads Recycling Program.<br><br><b>Details:</b><ul> <li>\"Stretch mesh provides support, open-weave mesh for airflow, wicks efficiently and dries fast\"</li> <li>Seamless construction</li> <li>Leg openings have half-inch self-binding for comfort</li> <li>Fly-free support</li></ul><br><br><b>Fabric: </b>\"4.6-oz 93% polyester (71% recycled)/7% spandex, with moisture-wicking performance. Recyclable through the Common Threads Recycling Program\"<br><br><b>Weight: </b>(49 g 1.7 oz)<br><br>Made in Israel.\n",
      "\n",
      "\n",
      "Active boy shorts - We've worn these versatile, feminine boy shorts as on-the-fly bathing suit bottoms, to Bikram yoga class, as sleepwear - their functionality is limitless. Low-rise Active Boy Shorts are tube-constructed to eliminate chafing side seams, and their soft, technical fabric breathes and wicks moisture to keep you comfortable and dry. We've shortened the flat waistband in front for a fit that won't roll or bind; stretchy shaped openings at legs are newly redesigned with less fabric to minimize bunching. Solids and prints: 4.6-oz 93% nylon/7% spandex.<br><br><b>Details:</b><ul> <li>\"Ultrasoft, lightweight fabric with stretch and moisture management\"</li> <li>Seamless construction</li> <li>\"Waistband and shaped leg openings lie flat, won't roll or bind for well deserved comfort and mobility\"</li></ul><br><br><b>Fabric: </b>\"4.6-oz 93% nylon/7% spandex, with moisture-wicking performance\"<br><br><b>Weight: </b>(31 g 1.1 oz)<br><br>Made in Israel.\n"
     ]
    }
   ],
   "source": [
    "get_similarity_m(2,cosine_similarities,data)"
   ]
  },
  {
   "cell_type": "markdown",
   "metadata": {},
   "source": [
    "# APPROACH 2:\n",
    "## We use word 2 vec to get the paragraph vector of the data\n",
    "## and then use the cosine similarity function to calculate the list of most similar products to a given input"
   ]
  },
  {
   "cell_type": "code",
   "execution_count": 223,
   "metadata": {
    "collapsed": true
   },
   "outputs": [],
   "source": [
    "import gensim"
   ]
  },
  {
   "cell_type": "code",
   "execution_count": 225,
   "metadata": {},
   "outputs": [],
   "source": [
    "tf_idf = TfidfVectorizer(stop_words='english')\n",
    "vectorizer = tf_idf.fit(data_clean['description'])\n",
    "result = vectorizer.transform(data_clean['description'])"
   ]
  },
  {
   "cell_type": "code",
   "execution_count": 227,
   "metadata": {},
   "outputs": [],
   "source": [
    "names = vectorizer.get_feature_names()\n",
    "result = np.array(result.todense())"
   ]
  },
  {
   "cell_type": "code",
   "execution_count": 238,
   "metadata": {},
   "outputs": [],
   "source": [
    "## create dictionary with having tf-idf more than 0.1 and \n",
    "\n",
    "tf_idf_words = []\n",
    "for r in result:\n",
    "    dict_word = {}\n",
    "    non_zero = np.where(r != 0)[0]\n",
    "    for word in non_zero:\n",
    "        if r[word] > 0.1:\n",
    "            dict_word[names[word]] = r[word]\n",
    "    tf_idf_words.append(dict_word)"
   ]
  },
  {
   "cell_type": "code",
   "execution_count": 240,
   "metadata": {},
   "outputs": [],
   "source": [
    "data_clean['tf_idf_desc'] = tf_idf_words"
   ]
  },
  {
   "cell_type": "code",
   "execution_count": 247,
   "metadata": {},
   "outputs": [
    {
     "data": {
      "text/plain": [
       "2"
      ]
     },
     "execution_count": 247,
     "metadata": {},
     "output_type": "execute_result"
    }
   ],
   "source": [
    "### Install the Google word to vector #####\n",
    "os.system('''curl https://s3.amazonaws.com/dl4j-distribution/GoogleNews-vectors-negative300.bin.gz -o GoogleNews-vectors-negative300.bin.gz && sudo gunzip GoogleNews-vectors-negative300.bin.gz ''')"
   ]
  },
  {
   "cell_type": "code",
   "execution_count": 248,
   "metadata": {
    "collapsed": true
   },
   "outputs": [],
   "source": [
    "##### load the available Google vectors ######\n",
    "model = gensim.models.KeyedVectors\\\n",
    "        .load_word2vec_format('GoogleNews-vectors-negative300.bin', binary=True)"
   ]
  },
  {
   "cell_type": "code",
   "execution_count": 249,
   "metadata": {
    "collapsed": true
   },
   "outputs": [],
   "source": [
    "########  create the new word2vec #######\n",
    "\n",
    "def w2v_vectorize_desc(x):\n",
    "    coeff = 0\n",
    "    vector = np.zeros(300)\n",
    "    for word in x:\n",
    "        if word in model:\n",
    "            coeff = coeff + x[word]\n",
    "            vector = vector + model[word] * x[word]\n",
    "    if coeff != 0:\n",
    "        vector = vector / coeff\n",
    "    return list(vector)"
   ]
  },
  {
   "cell_type": "code",
   "execution_count": 250,
   "metadata": {
    "collapsed": true
   },
   "outputs": [],
   "source": [
    "###### apply the transformation #########\n",
    "data_clean['tf_idf_desc'] = data_clean\\\n",
    "            .apply(lambda x: w2v_vectorize_desc(x['tf_idf_desc']), axis=1)"
   ]
  },
  {
   "cell_type": "code",
   "execution_count": 262,
   "metadata": {},
   "outputs": [],
   "source": [
    "data_w2v = data_clean[['id','tf_idf_desc']]"
   ]
  },
  {
   "cell_type": "code",
   "execution_count": 270,
   "metadata": {},
   "outputs": [],
   "source": [
    "products = data_w2v.id.values\n",
    "vectors = data_clean.tf_idf_desc.values\n",
    "\n",
    "file = open(\"product_glove\", \"w\")\n",
    "for p, v in zip(products, vectors):\n",
    "    vector_s = \" \".join(map(str, v))\n",
    "    file.write(str(p) + \" \" + vector_s + '\\n')\n",
    "file.close()\n"
   ]
  },
  {
   "cell_type": "code",
   "execution_count": 271,
   "metadata": {},
   "outputs": [
    {
     "data": {
      "text/plain": [
       "(500, 300)"
      ]
     },
     "execution_count": 271,
     "metadata": {},
     "output_type": "execute_result"
    }
   ],
   "source": [
    "####### product_w2v  using gensim ###########\n",
    "glove2word2vec(\"product_glove\", \"product_w2v\")"
   ]
  },
  {
   "cell_type": "code",
   "execution_count": 272,
   "metadata": {
    "collapsed": true
   },
   "outputs": [],
   "source": [
    "##### load the model ##########\n",
    "product2vec = gensim.models.KeyedVectors.load_word2vec_format(\"product_w2v\")"
   ]
  },
  {
   "cell_type": "code",
   "execution_count": 318,
   "metadata": {},
   "outputs": [],
   "source": [
    "def get_similarity_w2v(product_id,product2vec,data_clean,number_similar_products =10,show_simlar = 2):\n",
    "    similar_products = pd.DataFrame(product2vec.most_similar(str(product_id), topn = number_similar_products),columns= ['product_id','score'] )\n",
    "    print('Description of Product:')\n",
    "    print(data[\"description\"][product_id-1])\n",
    "    print('\\n')\n",
    "    print(\"Similar product to {0} : \".format(product_id))\n",
    "    for x in range(0,10):\n",
    "        print(similar_products.iloc[int(x),0])\n",
    "    print('\\n')\n",
    "    print('Description of Most Similar Product:')\n",
    "    print([data.loc[int(similar_products.iloc[1,0])-1,\"description\"]])\n",
    "    print('\\n')\n",
    "    print([data.loc[int(similar_products.iloc[2,0])-1,\"description\"]])    \n",
    "    "
   ]
  },
  {
   "cell_type": "code",
   "execution_count": 321,
   "metadata": {},
   "outputs": [
    {
     "name": "stdout",
     "output_type": "stream",
     "text": [
      "Description of Product:\n",
      "Girl's boardie capris - Built for two-week camping trips on Baja beaches, these capris are made of a lightweight, soft-brushed 3.7-oz 100% microfiber polyester that handles salt water, sand and dirt, dry quickly, and have a DWR (durable water repellent) finish. Two back darts and a built-in elastic waist adjustment hone the fit. Three-snap leg openings allow vented styling. With a hook-and-loop soft-tie fly and a self-draining back patch pocket. Hip-riding. Inseam is 18\". Recyclable through the Common Threads Recycling Program.<br><br><b>Details:</b><ul> <li>\"Lightweight, soft-brushed microfiber polyester dries quickly and has a Deluge DWR (durable water repellent) finish\"</li> <li>Two back darts and a built-in elastic waist adjustment hone the fit</li> <li>3-snap leg openings allow vented styling</li> <li>\"Hook-and-loop, soft-tie fly and self-draining back patch pocket\"</li> <li>Hip-riding</li> <li>\"Inseam is 18\"\"\"</li></ul><br><br><b>Fabric: </b>3.7-oz 100% microfiber polyester with a brushed face and a Deluge DWR finish. Recyclable through the Common Threads Recycling Program<br><br><b>Weight: </b>(103 g 3.6 oz)<br><br>Made in Colombia.\n",
      "\n",
      "\n",
      "Similar product to 45 : \n",
      "325\n",
      "159\n",
      "224\n",
      "157\n",
      "4\n",
      "287\n",
      "284\n",
      "395\n",
      "217\n",
      "434\n",
      "\n",
      "\n",
      "Description of Most Similar Product:\n",
      "['Alpine guide pants - Skin in, climb ice, switch to rock, traverse a knife-edge ridge and boogie back down - these durable, weather-resistant and breathable soft-shell pants keep stride on every mountain endeavor. The midweight stretch-woven polyester won\\'t restrict your moves, and the brushed interior maintains next-to-skin comfort. A 2-way zippered fly keeps things easy with a harness on, and the gusseted, zippered cuffs have 2-position snaps and tie-down loops. With water-resistant zippered pockets: two front, two thigh, one back hip. Recyclable through the Common Threads Recycling Program.<br><br><b>Details:</b><ul> <li>Durable stretch-woven polyester is water- and wind-resistant and highly breathable</li> <li>Brushed interior for next-to-skin comfort</li> <li>Waistband has elastic on back and belt loops; zippered fly</li> <li>\"External pockets: two front slash, two glued-on thigh; all with DWR (durable water repellent) treated zippers\"</li> <li>\"Gusseted, adjustable cuffs have two positions and tie-down loops\"</li></ul><br><br><b>Fabric: </b>7.6-oz 90-denier 92% polyester (47% recycled)/8% spandex with Deluge DWR finish. Recyclable through the Common Threads Recycling Program<br><br><b>Weight: </b>(577 g 20 oz)<br><br>Made in Vietnam.']\n",
      "\n",
      "\n",
      "['Solimar shorts - Horny toads and other professional heat regulators seek shade. Let our new Solimar Shorts provide yours. Made of a tightly woven (30 UPF) lightweight stretch nylon with a DWR (durable water repellent) finish, the shorts are cut longer but can be rolled up and secured with button fasteners. They have two front patch pockets with welted openings and a single thigh mini drop-in pocket. Backside seams and darts provide shaping and the straight legs have vented hems. Regular rise; inseam (size 8) is 15\". Recyclable through the Common Threads Recycling Program.<br><br><b>Details:</b><ul> <li>Lightweight stretch fabric with 30-UPF protection and DWR (durable water repellent) finish</li> <li>Waistband with belt loops</li> <li>Zip fly with button closure</li> <li>Patch front pockets with welt openings; mini drop-in pocket on right thigh</li> <li>Straight leg; back seaming and dart for shaping</li> <li>Regular rise</li> <li>\"Inseam is 10\"\"\"</li></ul><br><br><b>Fabric: </b>\"3-oz 93% nylon/7% spandex, with 30-UPF sun protection. Recyclable through the Common Threads Recycling Program\"<br><br><b>Weight: </b>(126 g 4.4 oz)<br><br>Made in Vietnam.']\n"
     ]
    }
   ],
   "source": [
    "get_similarity_w2v(45,product2vec,data_clean)"
   ]
  }
 ],
 "metadata": {
  "kernelspec": {
   "display_name": "Python 3",
   "language": "python",
   "name": "python3"
  },
  "language_info": {
   "codemirror_mode": {
    "name": "ipython",
    "version": 3
   },
   "file_extension": ".py",
   "mimetype": "text/x-python",
   "name": "python",
   "nbconvert_exporter": "python",
   "pygments_lexer": "ipython3",
   "version": "3.6.3"
  }
 },
 "nbformat": 4,
 "nbformat_minor": 2
}
